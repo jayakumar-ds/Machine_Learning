{
 "cells": [
  {
   "cell_type": "code",
   "execution_count": 9,
   "id": "a6d3b2bd-4aa9-4164-adb0-b93e319af634",
   "metadata": {},
   "outputs": [],
   "source": [
    "import pickle\n",
    "import warnings\n",
    "warnings.filterwarnings('ignore')"
   ]
  },
  {
   "cell_type": "code",
   "execution_count": 11,
   "id": "82e7e68e-90e3-42c6-9ed4-cf25728e2e03",
   "metadata": {},
   "outputs": [],
   "source": [
    "#For sample testing reloaded the saved model to pridect new vaariable or features by passing new values\n",
    "\n",
    "loaded_model = pickle.load(open(\"finilized_mul_linear_reg.sav\",'rb'))\n",
    "result = loaded_model.predict([[91234,108623.10,24930.22,1,0]])"
   ]
  },
  {
   "cell_type": "code",
   "execution_count": 15,
   "id": "cae00c05-d4a0-422c-a9e2-022105dd84a9",
   "metadata": {},
   "outputs": [
    {
     "name": "stdout",
     "output_type": "stream",
     "text": [
      "[[118166.77090841]]\n"
     ]
    }
   ],
   "source": [
    "print(result)"
   ]
  },
  {
   "cell_type": "code",
   "execution_count": null,
   "id": "00449725-bcd5-4adf-8dd4-e19ed652e33a",
   "metadata": {},
   "outputs": [],
   "source": []
  }
 ],
 "metadata": {
  "kernelspec": {
   "display_name": "Python 3 (ipykernel)",
   "language": "python",
   "name": "python3"
  },
  "language_info": {
   "codemirror_mode": {
    "name": "ipython",
    "version": 3
   },
   "file_extension": ".py",
   "mimetype": "text/x-python",
   "name": "python",
   "nbconvert_exporter": "python",
   "pygments_lexer": "ipython3",
   "version": "3.12.4"
  }
 },
 "nbformat": 4,
 "nbformat_minor": 5
}
