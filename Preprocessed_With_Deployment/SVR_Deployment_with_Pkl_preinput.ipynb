{
 "cells": [
  {
   "cell_type": "code",
   "execution_count": 1,
   "id": "ed2cd129-d4b7-47fc-9ec4-f82dcda6e6a7",
   "metadata": {},
   "outputs": [],
   "source": [
    "import pickle\n",
    "import pandas as pd"
   ]
  },
  {
   "cell_type": "code",
   "execution_count": 3,
   "id": "2824390f-c43a-4b7c-9767-d617c767d783",
   "metadata": {},
   "outputs": [],
   "source": [
    "# Load Best Model, Scaler, and Encoder Column Names\n",
    "best_model = pickle.load(open(\"best_svr_model.sav\", 'rb'))\n",
    "\n",
    "scaler = pickle.load(open(\"scaler.sav\", 'rb'))\n",
    "\n",
    "encoder_columns = pickle.load(open(\"encoder_columns.sav\", 'rb'))\n"
   ]
  },
  {
   "cell_type": "code",
   "execution_count": 5,
   "id": "a787dfe4-4ddb-4677-903c-234e5caef283",
   "metadata": {},
   "outputs": [],
   "source": [
    "# New Data (For Prediction)\n",
    "new_data = pd.DataFrame({'R&D Spend': [153441.51], 'Administration': [101145.55], 'Marketing Spend': [407934.54],'State': ['Florida']})\t\t\t"
   ]
  },
  {
   "cell_type": "code",
   "execution_count": 7,
   "id": "4d985d3e-c7c4-476d-a39f-7fa0008fdba3",
   "metadata": {},
   "outputs": [],
   "source": [
    "\n",
    "# Apply One-Hot Encoding (Ensure Same Columns as Training)\n",
    "new_data_encoded = pd.get_dummies(new_data, columns=['State'])\n",
    "\n",
    "# Add Missing Dummy Columns (If Any)\n",
    "for col in encoder_columns:\n",
    "    if col not in new_data_encoded.columns:\n",
    "        new_data_encoded[col] = 0  \n",
    "\n",
    "# Ensure Column Order Matches Training Data\n",
    "new_data_encoded = new_data_encoded[encoder_columns]\n",
    "\n",
    "# Apply Standard Scaling\n",
    "new_data_scaled = scaler.transform(new_data_encoded)\n",
    "\n"
   ]
  },
  {
   "cell_type": "code",
   "execution_count": 9,
   "id": "93d54f63-87f1-49e7-bb61-5424f428396b",
   "metadata": {},
   "outputs": [
    {
     "name": "stdout",
     "output_type": "stream",
     "text": [
      "Predicted Value: 175863.52153181113\n"
     ]
    }
   ],
   "source": [
    "# Make Prediction\n",
    "prediction = best_model.predict(new_data_scaled)\n",
    "print(f\"Predicted Value: {prediction[0]}\")"
   ]
  },
  {
   "cell_type": "code",
   "execution_count": null,
   "id": "786bd1e1-9077-460c-9b02-a64ceb2ad3a6",
   "metadata": {},
   "outputs": [],
   "source": []
  }
 ],
 "metadata": {
  "kernelspec": {
   "display_name": "Python 3 (ipykernel)",
   "language": "python",
   "name": "python3"
  },
  "language_info": {
   "codemirror_mode": {
    "name": "ipython",
    "version": 3
   },
   "file_extension": ".py",
   "mimetype": "text/x-python",
   "name": "python",
   "nbconvert_exporter": "python",
   "pygments_lexer": "ipython3",
   "version": "3.12.4"
  }
 },
 "nbformat": 4,
 "nbformat_minor": 5
}
