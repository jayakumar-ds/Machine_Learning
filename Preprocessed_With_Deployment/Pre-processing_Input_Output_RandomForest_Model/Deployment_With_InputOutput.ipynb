{
 "cells": [
  {
   "cell_type": "markdown",
   "id": "e84b8d77-b844-46b2-8dcb-8e7bf168dbfd",
   "metadata": {},
   "source": [
    "## deployment phase with preprocessed file"
   ]
  },
  {
   "cell_type": "code",
   "execution_count": 1,
   "id": "692e4c4e-1eb9-4a64-9282-cd3716aef1a8",
   "metadata": {},
   "outputs": [],
   "source": [
    "import pickle\n",
    "import pandas as pd\n",
    "import warnings\n",
    "warnings.filterwarnings('ignore')"
   ]
  },
  {
   "cell_type": "code",
   "execution_count": 2,
   "id": "baeeb38f-0187-4e5b-8b6b-98f0feb3d4c4",
   "metadata": {},
   "outputs": [
    {
     "data": {
      "text/html": [
       "<div>\n",
       "<style scoped>\n",
       "    .dataframe tbody tr th:only-of-type {\n",
       "        vertical-align: middle;\n",
       "    }\n",
       "\n",
       "    .dataframe tbody tr th {\n",
       "        vertical-align: top;\n",
       "    }\n",
       "\n",
       "    .dataframe thead th {\n",
       "        text-align: right;\n",
       "    }\n",
       "</style>\n",
       "<table border=\"1\" class=\"dataframe\">\n",
       "  <thead>\n",
       "    <tr style=\"text-align: right;\">\n",
       "      <th></th>\n",
       "      <th>age</th>\n",
       "      <th>sex</th>\n",
       "      <th>bmi</th>\n",
       "      <th>children</th>\n",
       "      <th>smoker</th>\n",
       "      <th>charges</th>\n",
       "    </tr>\n",
       "  </thead>\n",
       "  <tbody>\n",
       "    <tr>\n",
       "      <th>0</th>\n",
       "      <td>19</td>\n",
       "      <td>female</td>\n",
       "      <td>27.900</td>\n",
       "      <td>0</td>\n",
       "      <td>yes</td>\n",
       "      <td>16884.92400</td>\n",
       "    </tr>\n",
       "    <tr>\n",
       "      <th>1</th>\n",
       "      <td>18</td>\n",
       "      <td>male</td>\n",
       "      <td>33.770</td>\n",
       "      <td>1</td>\n",
       "      <td>no</td>\n",
       "      <td>1725.55230</td>\n",
       "    </tr>\n",
       "    <tr>\n",
       "      <th>2</th>\n",
       "      <td>28</td>\n",
       "      <td>male</td>\n",
       "      <td>33.000</td>\n",
       "      <td>3</td>\n",
       "      <td>no</td>\n",
       "      <td>4449.46200</td>\n",
       "    </tr>\n",
       "    <tr>\n",
       "      <th>3</th>\n",
       "      <td>33</td>\n",
       "      <td>male</td>\n",
       "      <td>22.705</td>\n",
       "      <td>0</td>\n",
       "      <td>no</td>\n",
       "      <td>21984.47061</td>\n",
       "    </tr>\n",
       "    <tr>\n",
       "      <th>4</th>\n",
       "      <td>32</td>\n",
       "      <td>male</td>\n",
       "      <td>28.880</td>\n",
       "      <td>0</td>\n",
       "      <td>no</td>\n",
       "      <td>3866.85520</td>\n",
       "    </tr>\n",
       "  </tbody>\n",
       "</table>\n",
       "</div>"
      ],
      "text/plain": [
       "   age     sex     bmi  children smoker      charges\n",
       "0   19  female  27.900         0    yes  16884.92400\n",
       "1   18    male  33.770         1     no   1725.55230\n",
       "2   28    male  33.000         3     no   4449.46200\n",
       "3   33    male  22.705         0     no  21984.47061\n",
       "4   32    male  28.880         0     no   3866.85520"
      ]
     },
     "execution_count": 2,
     "metadata": {},
     "output_type": "execute_result"
    }
   ],
   "source": [
    "data = pd.read_csv(\"insurance_pre.csv\")\n",
    "data.head(5)"
   ]
  },
  {
   "cell_type": "code",
   "execution_count": 3,
   "id": "604e0c7b-0e6d-4885-aa2e-321660938431",
   "metadata": {},
   "outputs": [],
   "source": [
    "df = pd.get_dummies(data,drop_first = True,dtype=int)\n",
    "independent = df[['age', 'bmi', 'children','sex_male', 'smoker_yes']]\n",
    "dependent = df[[\"charges\"]]"
   ]
  },
  {
   "cell_type": "code",
   "execution_count": 7,
   "id": "9f9e2bdd-ba45-49c6-9791-cf013b3174a4",
   "metadata": {},
   "outputs": [],
   "source": [
    "from sklearn.model_selection import train_test_split\n",
    "X_train,X_test,y_train,y_test = train_test_split(independent,dependent,test_size=0.30,random_state=10)"
   ]
  },
  {
   "cell_type": "code",
   "execution_count": 9,
   "id": "79f8f94e-2aeb-4ac2-8d39-61a161c13112",
   "metadata": {},
   "outputs": [],
   "source": [
    "load_X_scaler = pickle.load(open(\"X_preprocess_scaler.sav\",'rb'))\n",
    "load_Y_scaler = pickle.load(open(\"Y_preprocess_scaler.sav\",'rb'))"
   ]
  },
  {
   "cell_type": "markdown",
   "id": "8499210c-415d-4355-b505-51f9fc418ccb",
   "metadata": {},
   "source": [
    "## Enter the New data for future prediction:"
   ]
  },
  {
   "cell_type": "code",
   "execution_count": 12,
   "id": "ab513e1d-4060-4ef8-a077-a2c9a9185c4e",
   "metadata": {},
   "outputs": [
    {
     "name": "stdin",
     "output_type": "stream",
     "text": [
      "Age: 19\n",
      "BMI: 25\n",
      "Children: 5\n",
      "Sex Male 0 or 1: 0\n",
      "Smoker Yes 0 or 1: 1\n"
     ]
    }
   ],
   "source": [
    "age_input=float(input(\"Age:\"))\n",
    "bmi_input=float(input(\"BMI:\"))\n",
    "children_input=float(input(\"Children:\"))\n",
    "sex_male_input=int(input(\"Sex Male 0 or 1:\"))\n",
    "smoker_yes_input=int(input(\"Smoker Yes 0 or 1:\"))"
   ]
  },
  {
   "cell_type": "code",
   "execution_count": 16,
   "id": "ac5acbc3-4d28-4956-bfc2-716a3ae2d71b",
   "metadata": {},
   "outputs": [
    {
     "name": "stdout",
     "output_type": "stream",
     "text": [
      "[[-1.43078885 -0.92468426  3.21047203 -1.02597835  1.94935887]]\n"
     ]
    }
   ],
   "source": [
    "new_data = [[age_input, bmi_input, children_input, sex_male_input, smoker_yes_input]]\n",
    "new_data_scaled = load_X_scaler.transform(new_data)  \n",
    "print(new_data_scaled)"
   ]
  },
  {
   "cell_type": "code",
   "execution_count": 18,
   "id": "185a4edb-8234-458b-a573-028a24214562",
   "metadata": {},
   "outputs": [],
   "source": [
    "load_model = pickle.load(open(\"rf_grid.sav\",'rb'))"
   ]
  },
  {
   "cell_type": "code",
   "execution_count": 22,
   "id": "1fc0d5c8-0965-4fbd-96f8-9804eee82ff8",
   "metadata": {},
   "outputs": [
    {
     "name": "stdout",
     "output_type": "stream",
     "text": [
      "Pre-Processed input data : [0.39976365]\n"
     ]
    }
   ],
   "source": [
    "result = load_model.predict(new_data_scaled)\n",
    "print(\"Pre-Processed input data :\",result)"
   ]
  },
  {
   "cell_type": "code",
   "execution_count": 26,
   "id": "1265103a-7d4f-48cf-bcf5-27054fb8eb15",
   "metadata": {},
   "outputs": [
    {
     "name": "stdout",
     "output_type": "stream",
     "text": [
      "After inverse the output data : [[18217.2620264]]\n"
     ]
    }
   ],
   "source": [
    "# Here, we need to reverse the processed data:\n",
    "original_Value = load_Y_scaler.inverse_transform([result])\n",
    "print(\"After inverse the output data :\",original_Value)"
   ]
  },
  {
   "cell_type": "code",
   "execution_count": null,
   "id": "23dc29e8-76ac-4dea-a68d-379f134e510e",
   "metadata": {},
   "outputs": [],
   "source": []
  }
 ],
 "metadata": {
  "kernelspec": {
   "display_name": "Python 3 (ipykernel)",
   "language": "python",
   "name": "python3"
  },
  "language_info": {
   "codemirror_mode": {
    "name": "ipython",
    "version": 3
   },
   "file_extension": ".py",
   "mimetype": "text/x-python",
   "name": "python",
   "nbconvert_exporter": "python",
   "pygments_lexer": "ipython3",
   "version": "3.12.4"
  }
 },
 "nbformat": 4,
 "nbformat_minor": 5
}
