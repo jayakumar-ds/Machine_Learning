{
 "cells": [
  {
   "cell_type": "code",
   "execution_count": 3,
   "id": "e479ec20-3faf-4f89-9e3d-82051ee28cc9",
   "metadata": {},
   "outputs": [],
   "source": [
    "import pickle\n",
    "import warnings\n",
    "warnings.filterwarnings('ignore')"
   ]
  },
  {
   "cell_type": "code",
   "execution_count": 11,
   "id": "6c357858-a31c-4cb0-a112-0d06058b2f1a",
   "metadata": {},
   "outputs": [],
   "source": [
    "loaded_model = pickle.load(open(\"randomForestReg_Finalized.sav\",'rb'))\n",
    "result = loaded_model.predict([[325,548,354,1,0]])"
   ]
  },
  {
   "cell_type": "code",
   "execution_count": 13,
   "id": "ce9a39f1-8c93-490d-a9e7-eb2d351f9011",
   "metadata": {},
   "outputs": [
    {
     "data": {
      "text/plain": [
       "array([35934.831])"
      ]
     },
     "execution_count": 13,
     "metadata": {},
     "output_type": "execute_result"
    }
   ],
   "source": [
    "result"
   ]
  },
  {
   "cell_type": "code",
   "execution_count": null,
   "id": "b6b4b280-c689-401b-95d0-bd8461f488ae",
   "metadata": {},
   "outputs": [],
   "source": []
  }
 ],
 "metadata": {
  "kernelspec": {
   "display_name": "Python 3 (ipykernel)",
   "language": "python",
   "name": "python3"
  },
  "language_info": {
   "codemirror_mode": {
    "name": "ipython",
    "version": 3
   },
   "file_extension": ".py",
   "mimetype": "text/x-python",
   "name": "python",
   "nbconvert_exporter": "python",
   "pygments_lexer": "ipython3",
   "version": "3.12.4"
  }
 },
 "nbformat": 4,
 "nbformat_minor": 5
}
