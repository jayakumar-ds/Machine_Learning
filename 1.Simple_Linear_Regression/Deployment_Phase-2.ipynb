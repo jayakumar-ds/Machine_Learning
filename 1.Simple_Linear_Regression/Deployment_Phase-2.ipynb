{
 "cells": [
  {
   "cell_type": "markdown",
   "id": "310e6035-536f-4591-ba05-c5d126a6663d",
   "metadata": {},
   "source": [
    "### **Model Loading using Pickle Function:**"
   ]
  },
  {
   "cell_type": "code",
   "execution_count": 30,
   "id": "8df6319a-b22a-4648-94d5-1f55167cfbdc",
   "metadata": {},
   "outputs": [],
   "source": [
    "import pickle\n",
    "import warnings\n",
    "warnings.filterwarnings('ignore')"
   ]
  },
  {
   "cell_type": "code",
   "execution_count": 36,
   "id": "0551b2b1-2080-41bf-9c13-81786993774f",
   "metadata": {},
   "outputs": [],
   "source": [
    "loaded_model = pickle.load(open(\"finailized_model_linear.sav\", 'rb'))\n",
    "result = loaded_model.predict([[0]])"
   ]
  },
  {
   "cell_type": "code",
   "execution_count": 38,
   "id": "898f675b-5740-4c02-9ae4-d0c32f4c051e",
   "metadata": {},
   "outputs": [
    {
     "name": "stdout",
     "output_type": "stream",
     "text": [
      "[[26777.3913412]]\n"
     ]
    }
   ],
   "source": [
    "print(result)"
   ]
  },
  {
   "cell_type": "code",
   "execution_count": null,
   "id": "65fa482b-c5ed-4ca9-b56f-e5f77fd704d9",
   "metadata": {},
   "outputs": [],
   "source": []
  }
 ],
 "metadata": {
  "kernelspec": {
   "display_name": "Python 3 (ipykernel)",
   "language": "python",
   "name": "python3"
  },
  "language_info": {
   "codemirror_mode": {
    "name": "ipython",
    "version": 3
   },
   "file_extension": ".py",
   "mimetype": "text/x-python",
   "name": "python",
   "nbconvert_exporter": "python",
   "pygments_lexer": "ipython3",
   "version": "3.12.4"
  }
 },
 "nbformat": 4,
 "nbformat_minor": 5
}
